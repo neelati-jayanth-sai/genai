{
  "cells": [
    {
      "cell_type": "code",
      "execution_count": null,
      "metadata": {
        "colab": {
          "base_uri": "https://localhost:8080/"
        },
        "id": "hspTwU8cBVpR",
        "outputId": "43658784-8724-4e06-90a3-b62f5d84d704"
      },
      "outputs": [
        {
          "name": "stdout",
          "output_type": "stream",
          "text": [
            "Requirement already satisfied: tensorflow==2.15.0 in /usr/local/lib/python3.10/dist-packages (2.15.0)\n",
            "Requirement already satisfied: pandas in /usr/local/lib/python3.10/dist-packages (2.1.4)\n",
            "Requirement already satisfied: numpy in /usr/local/lib/python3.10/dist-packages (1.26.4)\n",
            "Requirement already satisfied: scikit-learn in /usr/local/lib/python3.10/dist-packages (1.3.2)\n",
            "Requirement already satisfied: tensorboard in /usr/local/lib/python3.10/dist-packages (2.15.2)\n",
            "Requirement already satisfied: matplotlib in /usr/local/lib/python3.10/dist-packages (3.7.1)\n",
            "Collecting scikeras\n",
            "  Downloading scikeras-0.13.0-py3-none-any.whl.metadata (3.1 kB)\n",
            "Requirement already satisfied: nltk in /usr/local/lib/python3.10/dist-packages (3.8.1)\n",
            "Requirement already satisfied: absl-py>=1.0.0 in /usr/local/lib/python3.10/dist-packages (from tensorflow==2.15.0) (1.4.0)\n",
            "Requirement already satisfied: astunparse>=1.6.0 in /usr/local/lib/python3.10/dist-packages (from tensorflow==2.15.0) (1.6.3)\n",
            "Requirement already satisfied: flatbuffers>=23.5.26 in /usr/local/lib/python3.10/dist-packages (from tensorflow==2.15.0) (24.3.25)\n",
            "Requirement already satisfied: gast!=0.5.0,!=0.5.1,!=0.5.2,>=0.2.1 in /usr/local/lib/python3.10/dist-packages (from tensorflow==2.15.0) (0.6.0)\n",
            "Requirement already satisfied: google-pasta>=0.1.1 in /usr/local/lib/python3.10/dist-packages (from tensorflow==2.15.0) (0.2.0)\n",
            "Requirement already satisfied: h5py>=2.9.0 in /usr/local/lib/python3.10/dist-packages (from tensorflow==2.15.0) (3.11.0)\n",
            "Requirement already satisfied: libclang>=13.0.0 in /usr/local/lib/python3.10/dist-packages (from tensorflow==2.15.0) (18.1.1)\n",
            "Requirement already satisfied: ml-dtypes~=0.2.0 in /usr/local/lib/python3.10/dist-packages (from tensorflow==2.15.0) (0.2.0)\n",
            "Requirement already satisfied: opt-einsum>=2.3.2 in /usr/local/lib/python3.10/dist-packages (from tensorflow==2.15.0) (3.3.0)\n",
            "Requirement already satisfied: packaging in /usr/local/lib/python3.10/dist-packages (from tensorflow==2.15.0) (24.1)\n",
            "Requirement already satisfied: protobuf!=4.21.0,!=4.21.1,!=4.21.2,!=4.21.3,!=4.21.4,!=4.21.5,<5.0.0dev,>=3.20.3 in /usr/local/lib/python3.10/dist-packages (from tensorflow==2.15.0) (3.20.3)\n",
            "Requirement already satisfied: setuptools in /usr/local/lib/python3.10/dist-packages (from tensorflow==2.15.0) (71.0.4)\n",
            "Requirement already satisfied: six>=1.12.0 in /usr/local/lib/python3.10/dist-packages (from tensorflow==2.15.0) (1.16.0)\n",
            "Requirement already satisfied: termcolor>=1.1.0 in /usr/local/lib/python3.10/dist-packages (from tensorflow==2.15.0) (2.4.0)\n",
            "Requirement already satisfied: typing-extensions>=3.6.6 in /usr/local/lib/python3.10/dist-packages (from tensorflow==2.15.0) (4.12.2)\n",
            "Requirement already satisfied: wrapt<1.15,>=1.11.0 in /usr/local/lib/python3.10/dist-packages (from tensorflow==2.15.0) (1.14.1)\n",
            "Requirement already satisfied: tensorflow-io-gcs-filesystem>=0.23.1 in /usr/local/lib/python3.10/dist-packages (from tensorflow==2.15.0) (0.37.1)\n",
            "Requirement already satisfied: grpcio<2.0,>=1.24.3 in /usr/local/lib/python3.10/dist-packages (from tensorflow==2.15.0) (1.65.2)\n",
            "Requirement already satisfied: tensorflow-estimator<2.16,>=2.15.0 in /usr/local/lib/python3.10/dist-packages (from tensorflow==2.15.0) (2.15.0)\n",
            "Requirement already satisfied: keras<2.16,>=2.15.0 in /usr/local/lib/python3.10/dist-packages (from tensorflow==2.15.0) (2.15.0)\n",
            "Requirement already satisfied: python-dateutil>=2.8.2 in /usr/local/lib/python3.10/dist-packages (from pandas) (2.9.0.post0)\n",
            "Requirement already satisfied: pytz>=2020.1 in /usr/local/lib/python3.10/dist-packages (from pandas) (2024.1)\n",
            "Requirement already satisfied: tzdata>=2022.1 in /usr/local/lib/python3.10/dist-packages (from pandas) (2024.1)\n",
            "Requirement already satisfied: scipy>=1.5.0 in /usr/local/lib/python3.10/dist-packages (from scikit-learn) (1.13.1)\n",
            "Requirement already satisfied: joblib>=1.1.1 in /usr/local/lib/python3.10/dist-packages (from scikit-learn) (1.4.2)\n",
            "Requirement already satisfied: threadpoolctl>=2.0.0 in /usr/local/lib/python3.10/dist-packages (from scikit-learn) (3.5.0)\n",
            "Requirement already satisfied: google-auth<3,>=1.6.3 in /usr/local/lib/python3.10/dist-packages (from tensorboard) (2.27.0)\n",
            "Requirement already satisfied: google-auth-oauthlib<2,>=0.5 in /usr/local/lib/python3.10/dist-packages (from tensorboard) (1.2.1)\n",
            "Requirement already satisfied: markdown>=2.6.8 in /usr/local/lib/python3.10/dist-packages (from tensorboard) (3.6)\n",
            "Requirement already satisfied: requests<3,>=2.21.0 in /usr/local/lib/python3.10/dist-packages (from tensorboard) (2.31.0)\n",
            "Requirement already satisfied: tensorboard-data-server<0.8.0,>=0.7.0 in /usr/local/lib/python3.10/dist-packages (from tensorboard) (0.7.2)\n",
            "Requirement already satisfied: werkzeug>=1.0.1 in /usr/local/lib/python3.10/dist-packages (from tensorboard) (3.0.3)\n",
            "Requirement already satisfied: contourpy>=1.0.1 in /usr/local/lib/python3.10/dist-packages (from matplotlib) (1.2.1)\n",
            "Requirement already satisfied: cycler>=0.10 in /usr/local/lib/python3.10/dist-packages (from matplotlib) (0.12.1)\n",
            "Requirement already satisfied: fonttools>=4.22.0 in /usr/local/lib/python3.10/dist-packages (from matplotlib) (4.53.1)\n",
            "Requirement already satisfied: kiwisolver>=1.0.1 in /usr/local/lib/python3.10/dist-packages (from matplotlib) (1.4.5)\n",
            "Requirement already satisfied: pillow>=6.2.0 in /usr/local/lib/python3.10/dist-packages (from matplotlib) (10.4.0)\n",
            "Requirement already satisfied: pyparsing>=2.3.1 in /usr/local/lib/python3.10/dist-packages (from matplotlib) (3.1.2)\n",
            "INFO: pip is looking at multiple versions of scikeras to determine which version is compatible with other requirements. This could take a while.\n",
            "  Downloading scikeras-0.12.0-py3-none-any.whl.metadata (4.0 kB)\n",
            "Requirement already satisfied: click in /usr/local/lib/python3.10/dist-packages (from nltk) (8.1.7)\n",
            "Requirement already satisfied: regex>=2021.8.3 in /usr/local/lib/python3.10/dist-packages (from nltk) (2024.7.24)\n",
            "Requirement already satisfied: tqdm in /usr/local/lib/python3.10/dist-packages (from nltk) (4.66.4)\n",
            "Requirement already satisfied: wheel<1.0,>=0.23.0 in /usr/local/lib/python3.10/dist-packages (from astunparse>=1.6.0->tensorflow==2.15.0) (0.43.0)\n",
            "Requirement already satisfied: cachetools<6.0,>=2.0.0 in /usr/local/lib/python3.10/dist-packages (from google-auth<3,>=1.6.3->tensorboard) (5.4.0)\n",
            "Requirement already satisfied: pyasn1-modules>=0.2.1 in /usr/local/lib/python3.10/dist-packages (from google-auth<3,>=1.6.3->tensorboard) (0.4.0)\n",
            "Requirement already satisfied: rsa<5,>=3.1.4 in /usr/local/lib/python3.10/dist-packages (from google-auth<3,>=1.6.3->tensorboard) (4.9)\n",
            "Requirement already satisfied: requests-oauthlib>=0.7.0 in /usr/local/lib/python3.10/dist-packages (from google-auth-oauthlib<2,>=0.5->tensorboard) (2.0.0)\n",
            "Requirement already satisfied: charset-normalizer<4,>=2 in /usr/local/lib/python3.10/dist-packages (from requests<3,>=2.21.0->tensorboard) (3.3.2)\n",
            "Requirement already satisfied: idna<4,>=2.5 in /usr/local/lib/python3.10/dist-packages (from requests<3,>=2.21.0->tensorboard) (3.7)\n",
            "Requirement already satisfied: urllib3<3,>=1.21.1 in /usr/local/lib/python3.10/dist-packages (from requests<3,>=2.21.0->tensorboard) (2.0.7)\n",
            "Requirement already satisfied: certifi>=2017.4.17 in /usr/local/lib/python3.10/dist-packages (from requests<3,>=2.21.0->tensorboard) (2024.7.4)\n",
            "Requirement already satisfied: MarkupSafe>=2.1.1 in /usr/local/lib/python3.10/dist-packages (from werkzeug>=1.0.1->tensorboard) (2.1.5)\n",
            "Requirement already satisfied: pyasn1<0.7.0,>=0.4.6 in /usr/local/lib/python3.10/dist-packages (from pyasn1-modules>=0.2.1->google-auth<3,>=1.6.3->tensorboard) (0.6.0)\n",
            "Requirement already satisfied: oauthlib>=3.0.0 in /usr/local/lib/python3.10/dist-packages (from requests-oauthlib>=0.7.0->google-auth-oauthlib<2,>=0.5->tensorboard) (3.2.2)\n",
            "Downloading scikeras-0.12.0-py3-none-any.whl (27 kB)\n",
            "Installing collected packages: scikeras\n",
            "Successfully installed scikeras-0.12.0\n"
          ]
        }
      ],
      "source": [
        "!pip install tensorflow==2.15.0 pandas numpy scikit-learn tensorboard matplotlib scikeras nltk"
      ]
    },
    {
      "cell_type": "code",
      "execution_count": null,
      "metadata": {
        "colab": {
          "base_uri": "https://localhost:8080/"
        },
        "id": "gvEGg6l0BsAl",
        "outputId": "4fd91ae0-7d84-449b-dd9c-514a1853b475"
      },
      "outputs": [
        {
          "name": "stderr",
          "output_type": "stream",
          "text": [
            "[nltk_data] Downloading package gutenberg to /root/nltk_data...\n",
            "[nltk_data]   Unzipping corpora/gutenberg.zip.\n"
          ]
        }
      ],
      "source": [
        "import nltk\n",
        "nltk.download('gutenberg')\n",
        "from nltk.corpus import gutenberg\n",
        "import pandas as pd\n",
        "\n",
        "\n",
        "data = gutenberg.raw('shakespeare-hamlet.txt')\n",
        "\n",
        "with open('hamlet.txt','w') as f:\n",
        "  f.write(data)"
      ]
    },
    {
      "cell_type": "code",
      "execution_count": null,
      "metadata": {
        "id": "KvQKGGZZDt2P"
      },
      "outputs": [],
      "source": [
        "import numpy as np\n",
        "from tensorflow.keras.preprocessing.text import Tokenizer\n",
        "from tensorflow.keras.preprocessing.sequence import pad_sequences\n",
        "from sklearn.model_selection import train_test_split"
      ]
    },
    {
      "cell_type": "code",
      "execution_count": null,
      "metadata": {
        "colab": {
          "base_uri": "https://localhost:8080/"
        },
        "id": "WzIGSAjHEtxD",
        "outputId": "578eb908-b59a-43f4-e5f4-740e34682df4"
      },
      "outputs": [
        {
          "name": "stdout",
          "output_type": "stream",
          "text": [
            "4818\n"
          ]
        }
      ],
      "source": [
        "with open('hamlet.txt','r') as file:\n",
        "  text = file.read().lower()\n",
        "\n",
        "tokenizer=Tokenizer()\n",
        "tokenizer.fit_on_texts([text])\n",
        "total_words=len(tokenizer.word_index)+1\n",
        "print(total_words)\n"
      ]
    },
    {
      "cell_type": "code",
      "execution_count": null,
      "metadata": {
        "id": "o8ktFJuWG4Kw"
      },
      "outputs": [],
      "source": [
        "input_sequences=[]\n",
        "for line in text.split('\\n'):\n",
        "  #print(\"line\",line)\n",
        "  tokenlist=tokenizer.texts_to_sequences([line])[0]\n",
        "  #print(\"tokenlist\",tokenlist)\n",
        "  for i in range(1,len(tokenlist)):\n",
        "    n_gram_sequence=tokenlist[:i+1]\n",
        "    #print(\"n_gram_sequence\",n_gram_sequence)\n",
        "    input_sequences.append(n_gram_sequence)\n",
        "\n",
        "  #print(input_sequences)\n"
      ]
    },
    {
      "cell_type": "code",
      "execution_count": null,
      "metadata": {
        "colab": {
          "base_uri": "https://localhost:8080/"
        },
        "id": "Y4aGmzPcl_nx",
        "outputId": "0b953de6-6aa4-4ce4-80bd-17c47cf95fb4"
      },
      "outputs": [
        {
          "name": "stdout",
          "output_type": "stream",
          "text": [
            "[[   0    0    0 ...    0    1  687]\n",
            " [   0    0    0 ...    1  687    4]\n",
            " [   0    0    0 ...  687    4   45]\n",
            " ...\n",
            " [   0    0    0 ...    4   45 1047]\n",
            " [   0    0    0 ...   45 1047    4]\n",
            " [   0    0    0 ... 1047    4  193]]\n"
          ]
        }
      ],
      "source": [
        "max_sequence_len=max([len(x) for x in input_sequences])\n",
        "input_sequences=np.array(pad_sequences(input_sequences,maxlen=max_sequence_len,padding='pre'))\n",
        "print(input_sequences)"
      ]
    },
    {
      "cell_type": "code",
      "execution_count": null,
      "metadata": {
        "id": "sFu129eBnrs1"
      },
      "outputs": [],
      "source": [
        "import tensorflow as tf\n",
        "x,y=input_sequences[:,:-1],input_sequences[:,-1]\n"
      ]
    },
    {
      "cell_type": "code",
      "execution_count": null,
      "metadata": {
        "colab": {
          "base_uri": "https://localhost:8080/"
        },
        "id": "6fuzvpMnoT1k",
        "outputId": "e1507830-0f66-4b95-9f0b-ce24780136a0"
      },
      "outputs": [
        {
          "data": {
            "text/plain": [
              "array([[   0,    0,    0, ...,    0,    0,    1],\n",
              "       [   0,    0,    0, ...,    0,    1,  687],\n",
              "       [   0,    0,    0, ...,    1,  687,    4],\n",
              "       ...,\n",
              "       [   0,    0,    0, ...,  687,    4,   45],\n",
              "       [   0,    0,    0, ...,    4,   45, 1047],\n",
              "       [   0,    0,    0, ...,   45, 1047,    4]], dtype=int32)"
            ]
          },
          "execution_count": 8,
          "metadata": {},
          "output_type": "execute_result"
        }
      ],
      "source": [
        "x"
      ]
    },
    {
      "cell_type": "code",
      "execution_count": null,
      "metadata": {
        "colab": {
          "base_uri": "https://localhost:8080/"
        },
        "id": "hPM-kEMrooiY",
        "outputId": "38f508cf-f597-4991-8530-efea6df83861"
      },
      "outputs": [
        {
          "data": {
            "text/plain": [
              "array([ 687,    4,   45, ..., 1047,    4,  193], dtype=int32)"
            ]
          },
          "execution_count": 9,
          "metadata": {},
          "output_type": "execute_result"
        }
      ],
      "source": [
        "y"
      ]
    },
    {
      "cell_type": "code",
      "execution_count": null,
      "metadata": {
        "id": "yHExAcfEomXR"
      },
      "outputs": [],
      "source": [
        "y=tf.keras.utils.to_categorical(y,num_classes=total_words)"
      ]
    },
    {
      "cell_type": "code",
      "execution_count": null,
      "metadata": {
        "colab": {
          "base_uri": "https://localhost:8080/"
        },
        "id": "BKfC8wYFoUd7",
        "outputId": "770f620e-fc02-4bf0-91fa-0eaccb87d64d"
      },
      "outputs": [
        {
          "data": {
            "text/plain": [
              "array([[0., 0., 0., ..., 0., 0., 0.],\n",
              "       [0., 0., 0., ..., 0., 0., 0.],\n",
              "       [0., 0., 0., ..., 0., 0., 0.],\n",
              "       ...,\n",
              "       [0., 0., 0., ..., 0., 0., 0.],\n",
              "       [0., 0., 0., ..., 0., 0., 0.],\n",
              "       [0., 0., 0., ..., 0., 0., 0.]], dtype=float32)"
            ]
          },
          "execution_count": 11,
          "metadata": {},
          "output_type": "execute_result"
        }
      ],
      "source": [
        "y"
      ]
    },
    {
      "cell_type": "code",
      "execution_count": null,
      "metadata": {
        "id": "f3FErmdUoVGq"
      },
      "outputs": [],
      "source": [
        "X_train,X_test,y_train,y_test=train_test_split(x,y,test_size=0.2,random_state=42)"
      ]
    },
    {
      "cell_type": "code",
      "execution_count": null,
      "metadata": {
        "colab": {
          "base_uri": "https://localhost:8080/"
        },
        "id": "g-VnZ1H2LBrG",
        "outputId": "e43fddfc-3142-4002-82b5-c81401c290f3"
      },
      "outputs": [
        {
          "name": "stdout",
          "output_type": "stream",
          "text": [
            "Model: \"sequential\"\n",
            "_________________________________________________________________\n",
            " Layer (type)                Output Shape              Param #   \n",
            "=================================================================\n",
            " embedding (Embedding)       (None, 13, 100)           481800    \n",
            "                                                                 \n",
            " lstm (LSTM)                 (None, 13, 150)           150600    \n",
            "                                                                 \n",
            " dropout (Dropout)           (None, 13, 150)           0         \n",
            "                                                                 \n",
            " lstm_1 (LSTM)               (None, 100)               100400    \n",
            "                                                                 \n",
            " dense (Dense)               (None, 4818)              486618    \n",
            "                                                                 \n",
            "=================================================================\n",
            "Total params: 1219418 (4.65 MB)\n",
            "Trainable params: 1219418 (4.65 MB)\n",
            "Non-trainable params: 0 (0.00 Byte)\n",
            "_________________________________________________________________\n"
          ]
        }
      ],
      "source": [
        "from tensorflow.keras.models import Sequential\n",
        "from tensorflow.keras.layers import Embedding,LSTM,Dense,Dropout\n",
        "\n",
        "model=Sequential()\n",
        "model.add(Embedding(total_words,100,input_length=max_sequence_len-1))\n",
        "model.add(LSTM(150,return_sequences=True))\n",
        "model.add(Dropout(0.2))\n",
        "model.add(LSTM(100))\n",
        "# model.add(Dense(total_words/2,activation='relu'))\n",
        "model.add(Dense(total_words,activation='softmax'))\n",
        "\n",
        "model.compile(loss='categorical_crossentropy',optimizer='adam',metrics=['accuracy'])\n",
        "model.summary()"
      ]
    },
    {
      "cell_type": "code",
      "execution_count": null,
      "metadata": {
        "colab": {
          "background_save": true,
          "base_uri": "https://localhost:8080/"
        },
        "id": "4wflJgxhLlZI",
        "outputId": "d3396c85-6cec-46c4-f6d6-bf9a43690adf"
      },
      "outputs": [
        {
          "name": "stdout",
          "output_type": "stream",
          "text": [
            "Epoch 1/300\n",
            "644/644 [==============================] - 24s 32ms/step - loss: 6.9287 - accuracy: 0.0331 - val_loss: 6.6947 - val_accuracy: 0.0336\n",
            "Epoch 2/300\n",
            "644/644 [==============================] - 20s 31ms/step - loss: 6.4787 - accuracy: 0.0393 - val_loss: 6.7672 - val_accuracy: 0.0420\n",
            "Epoch 3/300\n",
            "644/644 [==============================] - 20s 31ms/step - loss: 6.3407 - accuracy: 0.0455 - val_loss: 6.7980 - val_accuracy: 0.0459\n",
            "Epoch 4/300\n",
            "644/644 [==============================] - 20s 31ms/step - loss: 6.2000 - accuracy: 0.0502 - val_loss: 6.8151 - val_accuracy: 0.0486\n",
            "Epoch 5/300\n",
            "644/644 [==============================] - 20s 31ms/step - loss: 6.0644 - accuracy: 0.0541 - val_loss: 6.8530 - val_accuracy: 0.0515\n",
            "Epoch 6/300\n",
            "644/644 [==============================] - 20s 31ms/step - loss: 5.9237 - accuracy: 0.0602 - val_loss: 6.9219 - val_accuracy: 0.0577\n",
            "Epoch 7/300\n",
            "644/644 [==============================] - 20s 31ms/step - loss: 5.7971 - accuracy: 0.0670 - val_loss: 6.9985 - val_accuracy: 0.0649\n",
            "Epoch 8/300\n",
            "644/644 [==============================] - 20s 31ms/step - loss: 5.6672 - accuracy: 0.0745 - val_loss: 7.0220 - val_accuracy: 0.0649\n",
            "Epoch 9/300\n",
            "644/644 [==============================] - 20s 31ms/step - loss: 5.5385 - accuracy: 0.0807 - val_loss: 7.0880 - val_accuracy: 0.0697\n",
            "Epoch 10/300\n",
            "644/644 [==============================] - 20s 31ms/step - loss: 5.4144 - accuracy: 0.0878 - val_loss: 7.1775 - val_accuracy: 0.0641\n",
            "Epoch 11/300\n",
            "644/644 [==============================] - 20s 31ms/step - loss: 5.2980 - accuracy: 0.0926 - val_loss: 7.2800 - val_accuracy: 0.0672\n",
            "Epoch 12/300\n",
            "644/644 [==============================] - 20s 31ms/step - loss: 5.1860 - accuracy: 0.0978 - val_loss: 7.3318 - val_accuracy: 0.0653\n",
            "Epoch 13/300\n",
            "644/644 [==============================] - 20s 31ms/step - loss: 5.0713 - accuracy: 0.1043 - val_loss: 7.4635 - val_accuracy: 0.0624\n",
            "Epoch 14/300\n",
            "644/644 [==============================] - 20s 31ms/step - loss: 4.9629 - accuracy: 0.1104 - val_loss: 7.5556 - val_accuracy: 0.0645\n",
            "Epoch 15/300\n",
            "644/644 [==============================] - 20s 31ms/step - loss: 4.8532 - accuracy: 0.1135 - val_loss: 7.6874 - val_accuracy: 0.0610\n",
            "Epoch 16/300\n",
            "644/644 [==============================] - 20s 31ms/step - loss: 4.7435 - accuracy: 0.1199 - val_loss: 7.7797 - val_accuracy: 0.0645\n",
            "Epoch 17/300\n",
            "644/644 [==============================] - 20s 31ms/step - loss: 4.6405 - accuracy: 0.1262 - val_loss: 7.8803 - val_accuracy: 0.0657\n",
            "Epoch 18/300\n",
            "644/644 [==============================] - 20s 31ms/step - loss: 4.5330 - accuracy: 0.1283 - val_loss: 8.0271 - val_accuracy: 0.0618\n",
            "Epoch 19/300\n",
            "644/644 [==============================] - 20s 31ms/step - loss: 4.4295 - accuracy: 0.1390 - val_loss: 8.1461 - val_accuracy: 0.0624\n",
            "Epoch 20/300\n",
            "644/644 [==============================] - 20s 31ms/step - loss: 4.3283 - accuracy: 0.1438 - val_loss: 8.2823 - val_accuracy: 0.0614\n",
            "Epoch 21/300\n",
            "644/644 [==============================] - 20s 30ms/step - loss: 4.2322 - accuracy: 0.1523 - val_loss: 8.4193 - val_accuracy: 0.0649\n",
            "Epoch 22/300\n",
            "644/644 [==============================] - 20s 31ms/step - loss: 4.1394 - accuracy: 0.1637 - val_loss: 8.5749 - val_accuracy: 0.0616\n",
            "Epoch 23/300\n",
            "644/644 [==============================] - 20s 31ms/step - loss: 4.0542 - accuracy: 0.1733 - val_loss: 8.7108 - val_accuracy: 0.0602\n",
            "Epoch 24/300\n",
            "644/644 [==============================] - 20s 31ms/step - loss: 3.9725 - accuracy: 0.1870 - val_loss: 8.8354 - val_accuracy: 0.0610\n",
            "Epoch 25/300\n",
            "644/644 [==============================] - 20s 31ms/step - loss: 3.8924 - accuracy: 0.2009 - val_loss: 8.9426 - val_accuracy: 0.0612\n",
            "Epoch 26/300\n",
            "644/644 [==============================] - 20s 30ms/step - loss: 3.8117 - accuracy: 0.2171 - val_loss: 9.0964 - val_accuracy: 0.0600\n",
            "Epoch 27/300\n",
            "644/644 [==============================] - 20s 31ms/step - loss: 3.7414 - accuracy: 0.2272 - val_loss: 9.1851 - val_accuracy: 0.0608\n",
            "Epoch 28/300\n",
            "644/644 [==============================] - 20s 31ms/step - loss: 3.6717 - accuracy: 0.2386 - val_loss: 9.3266 - val_accuracy: 0.0604\n",
            "Epoch 29/300\n",
            "644/644 [==============================] - 20s 31ms/step - loss: 3.6077 - accuracy: 0.2528 - val_loss: 9.4334 - val_accuracy: 0.0591\n",
            "Epoch 30/300\n",
            "644/644 [==============================] - 20s 30ms/step - loss: 3.5374 - accuracy: 0.2623 - val_loss: 9.5374 - val_accuracy: 0.0593\n",
            "Epoch 31/300\n",
            "644/644 [==============================] - 20s 30ms/step - loss: 3.4815 - accuracy: 0.2737 - val_loss: 9.6118 - val_accuracy: 0.0567\n",
            "Epoch 32/300\n",
            "644/644 [==============================] - 20s 31ms/step - loss: 3.4209 - accuracy: 0.2819 - val_loss: 9.7458 - val_accuracy: 0.0595\n",
            "Epoch 33/300\n",
            "644/644 [==============================] - 20s 31ms/step - loss: 3.3696 - accuracy: 0.2929 - val_loss: 9.8496 - val_accuracy: 0.0567\n",
            "Epoch 34/300\n",
            "644/644 [==============================] - 20s 30ms/step - loss: 3.3152 - accuracy: 0.3014 - val_loss: 9.9752 - val_accuracy: 0.0573\n",
            "Epoch 35/300\n",
            "644/644 [==============================] - 20s 31ms/step - loss: 3.2626 - accuracy: 0.3125 - val_loss: 10.0390 - val_accuracy: 0.0556\n",
            "Epoch 36/300\n",
            "644/644 [==============================] - 20s 31ms/step - loss: 3.2141 - accuracy: 0.3182 - val_loss: 10.1329 - val_accuracy: 0.0563\n",
            "Epoch 37/300\n",
            "644/644 [==============================] - 20s 31ms/step - loss: 3.1697 - accuracy: 0.3268 - val_loss: 10.2199 - val_accuracy: 0.0556\n",
            "Epoch 38/300\n",
            "644/644 [==============================] - 20s 31ms/step - loss: 3.1214 - accuracy: 0.3385 - val_loss: 10.3249 - val_accuracy: 0.0565\n",
            "Epoch 39/300\n",
            "644/644 [==============================] - 20s 31ms/step - loss: 3.0722 - accuracy: 0.3440 - val_loss: 10.3949 - val_accuracy: 0.0521\n",
            "Epoch 40/300\n",
            "644/644 [==============================] - 20s 31ms/step - loss: 3.0323 - accuracy: 0.3477 - val_loss: 10.4751 - val_accuracy: 0.0556\n",
            "Epoch 41/300\n",
            "644/644 [==============================] - 20s 31ms/step - loss: 2.9919 - accuracy: 0.3616 - val_loss: 10.5489 - val_accuracy: 0.0544\n",
            "Epoch 42/300\n",
            "644/644 [==============================] - 20s 31ms/step - loss: 2.9500 - accuracy: 0.3691 - val_loss: 10.6779 - val_accuracy: 0.0540\n",
            "Epoch 43/300\n",
            "644/644 [==============================] - 20s 31ms/step - loss: 2.9038 - accuracy: 0.3756 - val_loss: 10.6844 - val_accuracy: 0.0542\n",
            "Epoch 44/300\n",
            "644/644 [==============================] - 20s 31ms/step - loss: 2.8715 - accuracy: 0.3825 - val_loss: 10.7944 - val_accuracy: 0.0542\n",
            "Epoch 45/300\n",
            "644/644 [==============================] - 20s 31ms/step - loss: 2.8282 - accuracy: 0.3891 - val_loss: 10.8693 - val_accuracy: 0.0493\n",
            "Epoch 46/300\n",
            "644/644 [==============================] - 20s 31ms/step - loss: 2.7930 - accuracy: 0.3960 - val_loss: 10.9622 - val_accuracy: 0.0532\n",
            "Epoch 47/300\n",
            "644/644 [==============================] - 20s 31ms/step - loss: 2.7622 - accuracy: 0.3972 - val_loss: 11.0230 - val_accuracy: 0.0534\n",
            "Epoch 48/300\n",
            "644/644 [==============================] - 20s 31ms/step - loss: 2.7210 - accuracy: 0.4106 - val_loss: 11.0660 - val_accuracy: 0.0540\n",
            "Epoch 49/300\n",
            "644/644 [==============================] - 20s 31ms/step - loss: 2.6879 - accuracy: 0.4134 - val_loss: 11.1234 - val_accuracy: 0.0527\n",
            "Epoch 50/300\n",
            "644/644 [==============================] - 20s 31ms/step - loss: 2.6540 - accuracy: 0.4200 - val_loss: 11.2291 - val_accuracy: 0.0552\n",
            "Epoch 51/300\n",
            "644/644 [==============================] - 20s 32ms/step - loss: 2.6217 - accuracy: 0.4291 - val_loss: 11.2815 - val_accuracy: 0.0517\n",
            "Epoch 52/300\n",
            "644/644 [==============================] - 20s 31ms/step - loss: 2.5978 - accuracy: 0.4309 - val_loss: 11.3611 - val_accuracy: 0.0534\n",
            "Epoch 53/300\n",
            "644/644 [==============================] - 20s 30ms/step - loss: 2.5541 - accuracy: 0.4396 - val_loss: 11.4406 - val_accuracy: 0.0486\n",
            "Epoch 54/300\n",
            "644/644 [==============================] - 20s 31ms/step - loss: 2.5282 - accuracy: 0.4444 - val_loss: 11.4767 - val_accuracy: 0.0492\n",
            "Epoch 55/300\n",
            "644/644 [==============================] - 20s 31ms/step - loss: 2.4941 - accuracy: 0.4507 - val_loss: 11.5555 - val_accuracy: 0.0499\n",
            "Epoch 56/300\n",
            "644/644 [==============================] - 20s 31ms/step - loss: 2.4665 - accuracy: 0.4600 - val_loss: 11.5998 - val_accuracy: 0.0497\n",
            "Epoch 57/300\n",
            "644/644 [==============================] - 20s 31ms/step - loss: 2.4361 - accuracy: 0.4615 - val_loss: 11.6710 - val_accuracy: 0.0503\n",
            "Epoch 58/300\n",
            "644/644 [==============================] - 20s 31ms/step - loss: 2.4077 - accuracy: 0.4700 - val_loss: 11.7253 - val_accuracy: 0.0499\n",
            "Epoch 59/300\n",
            "644/644 [==============================] - 20s 31ms/step - loss: 2.3832 - accuracy: 0.4728 - val_loss: 11.7773 - val_accuracy: 0.0497\n",
            "Epoch 60/300\n",
            "644/644 [==============================] - 20s 31ms/step - loss: 2.3536 - accuracy: 0.4782 - val_loss: 11.8449 - val_accuracy: 0.0488\n",
            "Epoch 61/300\n",
            "644/644 [==============================] - 20s 31ms/step - loss: 2.3290 - accuracy: 0.4841 - val_loss: 11.8874 - val_accuracy: 0.0515\n",
            "Epoch 62/300\n",
            "644/644 [==============================] - 20s 31ms/step - loss: 2.2938 - accuracy: 0.4884 - val_loss: 11.9812 - val_accuracy: 0.0511\n",
            "Epoch 63/300\n",
            "644/644 [==============================] - 20s 31ms/step - loss: 2.2773 - accuracy: 0.4970 - val_loss: 12.0412 - val_accuracy: 0.0495\n",
            "Epoch 64/300\n",
            "644/644 [==============================] - 20s 31ms/step - loss: 2.2443 - accuracy: 0.5011 - val_loss: 12.0634 - val_accuracy: 0.0499\n",
            "Epoch 65/300\n",
            "644/644 [==============================] - 20s 30ms/step - loss: 2.2220 - accuracy: 0.5049 - val_loss: 12.1352 - val_accuracy: 0.0490\n",
            "Epoch 66/300\n",
            "644/644 [==============================] - 20s 31ms/step - loss: 2.1930 - accuracy: 0.5099 - val_loss: 12.1648 - val_accuracy: 0.0501\n",
            "Epoch 67/300\n",
            "644/644 [==============================] - 20s 31ms/step - loss: 2.1749 - accuracy: 0.5121 - val_loss: 12.2471 - val_accuracy: 0.0503\n",
            "Epoch 68/300\n",
            "644/644 [==============================] - 20s 31ms/step - loss: 2.1457 - accuracy: 0.5209 - val_loss: 12.3055 - val_accuracy: 0.0511\n",
            "Epoch 69/300\n",
            "644/644 [==============================] - 20s 31ms/step - loss: 2.1187 - accuracy: 0.5250 - val_loss: 12.3637 - val_accuracy: 0.0492\n",
            "Epoch 70/300\n",
            "644/644 [==============================] - 20s 31ms/step - loss: 2.0979 - accuracy: 0.5260 - val_loss: 12.3964 - val_accuracy: 0.0486\n",
            "Epoch 71/300\n",
            "644/644 [==============================] - 20s 31ms/step - loss: 2.0774 - accuracy: 0.5315 - val_loss: 12.4765 - val_accuracy: 0.0513\n",
            "Epoch 72/300\n",
            "644/644 [==============================] - 20s 31ms/step - loss: 2.0517 - accuracy: 0.5406 - val_loss: 12.5001 - val_accuracy: 0.0509\n",
            "Epoch 73/300\n",
            "644/644 [==============================] - 20s 30ms/step - loss: 2.0332 - accuracy: 0.5462 - val_loss: 12.5748 - val_accuracy: 0.0499\n",
            "Epoch 74/300\n",
            "644/644 [==============================] - 20s 31ms/step - loss: 2.0075 - accuracy: 0.5514 - val_loss: 12.6134 - val_accuracy: 0.0490\n",
            "Epoch 75/300\n",
            "644/644 [==============================] - 20s 30ms/step - loss: 1.9848 - accuracy: 0.5540 - val_loss: 12.6831 - val_accuracy: 0.0513\n",
            "Epoch 76/300\n",
            "644/644 [==============================] - 20s 30ms/step - loss: 1.9650 - accuracy: 0.5573 - val_loss: 12.7348 - val_accuracy: 0.0480\n",
            "Epoch 77/300\n",
            "644/644 [==============================] - 20s 31ms/step - loss: 1.9509 - accuracy: 0.5577 - val_loss: 12.7522 - val_accuracy: 0.0501\n",
            "Epoch 78/300\n",
            "644/644 [==============================] - 20s 31ms/step - loss: 1.9205 - accuracy: 0.5663 - val_loss: 12.8067 - val_accuracy: 0.0499\n",
            "Epoch 79/300\n",
            "644/644 [==============================] - 20s 31ms/step - loss: 1.9021 - accuracy: 0.5698 - val_loss: 12.8546 - val_accuracy: 0.0486\n",
            "Epoch 80/300\n",
            "644/644 [==============================] - 20s 31ms/step - loss: 1.8919 - accuracy: 0.5708 - val_loss: 12.8693 - val_accuracy: 0.0470\n",
            "Epoch 81/300\n",
            "644/644 [==============================] - 20s 31ms/step - loss: 1.8635 - accuracy: 0.5788 - val_loss: 12.9463 - val_accuracy: 0.0486\n",
            "Epoch 82/300\n",
            "644/644 [==============================] - 20s 31ms/step - loss: 1.8411 - accuracy: 0.5818 - val_loss: 12.9692 - val_accuracy: 0.0460\n",
            "Epoch 83/300\n",
            "644/644 [==============================] - 20s 31ms/step - loss: 1.8325 - accuracy: 0.5839 - val_loss: 13.0449 - val_accuracy: 0.0490\n",
            "Epoch 84/300\n",
            "644/644 [==============================] - 19s 30ms/step - loss: 1.8095 - accuracy: 0.5916 - val_loss: 13.0776 - val_accuracy: 0.0488\n",
            "Epoch 85/300\n",
            "644/644 [==============================] - 20s 30ms/step - loss: 1.7911 - accuracy: 0.5917 - val_loss: 13.1719 - val_accuracy: 0.0464\n",
            "Epoch 86/300\n",
            "644/644 [==============================] - 20s 31ms/step - loss: 1.7683 - accuracy: 0.5969 - val_loss: 13.2071 - val_accuracy: 0.0462\n",
            "Epoch 87/300\n",
            "644/644 [==============================] - 20s 31ms/step - loss: 1.7531 - accuracy: 0.6027 - val_loss: 13.2570 - val_accuracy: 0.0482\n",
            "Epoch 88/300\n",
            "644/644 [==============================] - 20s 31ms/step - loss: 1.7375 - accuracy: 0.6056 - val_loss: 13.3079 - val_accuracy: 0.0468\n",
            "Epoch 89/300\n",
            "644/644 [==============================] - 20s 31ms/step - loss: 1.7197 - accuracy: 0.6079 - val_loss: 13.3373 - val_accuracy: 0.0488\n",
            "Epoch 90/300\n",
            "644/644 [==============================] - 19s 30ms/step - loss: 1.7045 - accuracy: 0.6082 - val_loss: 13.3682 - val_accuracy: 0.0478\n",
            "Epoch 91/300\n",
            "385/644 [================>.............] - ETA: 7s - loss: 1.6578 - accuracy: 0.6249"
          ]
        }
      ],
      "source": [
        "history=model.fit(X_train,y_train,epochs=300,validation_data=(X_test,y_test),verbose=1)"
      ]
    },
    {
      "cell_type": "code",
      "execution_count": null,
      "metadata": {
        "id": "AuaF-Rvkmx2Q"
      },
      "outputs": [],
      "source": [
        "def generate_text(seed_text,model,max_sequence_len):\n",
        "  token_list=tokenizer.texts_to_sequences([seed_text])[0]\n",
        "  token_list=pad_sequences([token_list],maxlen=max_sequence_len-1,padding='pre')\n",
        "  predicted=model.predict(token_list,verbose=0)\n",
        "  predicted_word_index=np.argmax(predicted,axis=1)\n",
        "  for word,index in tokenizer.word_index.items():\n",
        "    if index==predicted_word_index:\n",
        "      return word\n",
        "  return None"
      ]
    },
    {
      "cell_type": "code",
      "execution_count": null,
      "metadata": {
        "id": "jLbCLsIqnGNf"
      },
      "outputs": [],
      "source": [
        "sample_text='i like to'\n",
        "max_sequence_len=model.input_shape[1]+1\n",
        "next_word=generate_text(sample_text,model,max_sequence_len)\n",
        "print(next_word)"
      ]
    },
    {
      "cell_type": "code",
      "execution_count": null,
      "metadata": {
        "id": "41aR5zEML5Pd"
      },
      "outputs": [],
      "source": [
        "model.save('hamlet_model.h5')\n"
      ]
    },
    {
      "cell_type": "code",
      "execution_count": null,
      "metadata": {
        "id": "G4ku9dNippgM"
      },
      "outputs": [],
      "source": [
        "import pickle\n",
        "with open('tokenizer.pickle','wb') as handle:\n",
        "  pickle.dump(tokenizer,handle,protocol=pickle.HIGHEST_PROTOCOL)"
      ]
    },
    {
      "cell_type": "code",
      "execution_count": null,
      "metadata": {
        "id": "Xle0MTbCpsV0"
      },
      "outputs": [],
      "source": []
    }
  ],
  "metadata": {
    "accelerator": "TPU",
    "colab": {
      "gpuType": "V28",
      "provenance": []
    },
    "kernelspec": {
      "display_name": "Python 3",
      "name": "python3"
    },
    "language_info": {
      "name": "python"
    }
  },
  "nbformat": 4,
  "nbformat_minor": 0
}