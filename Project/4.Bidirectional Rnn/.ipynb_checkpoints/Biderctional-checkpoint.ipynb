{
 "cells": [
  {
   "cell_type": "code",
   "execution_count": 1,
   "metadata": {},
   "outputs": [
    {
     "name": "stdout",
     "output_type": "stream",
     "text": [
      "Collecting tensorflow==2.15.0 (from -r requirements.txt (line 1))\n",
      "  Using cached tensorflow-2.15.0-cp311-cp311-manylinux_2_17_x86_64.manylinux2014_x86_64.whl.metadata (4.4 kB)\n",
      "Requirement already satisfied: pandas in /home/jai/anaconda3/lib/python3.11/site-packages (from -r requirements.txt (line 2)) (2.2.2)\n",
      "Requirement already satisfied: numpy in /home/jai/anaconda3/lib/python3.11/site-packages (from -r requirements.txt (line 3)) (1.26.4)\n",
      "Requirement already satisfied: scikit-learn in /home/jai/anaconda3/lib/python3.11/site-packages (from -r requirements.txt (line 4)) (1.5.1)\n",
      "Collecting tensorboard (from -r requirements.txt (line 5))\n",
      "  Using cached tensorboard-2.17.0-py3-none-any.whl.metadata (1.6 kB)\n",
      "Requirement already satisfied: matplotlib in /home/jai/anaconda3/lib/python3.11/site-packages (from -r requirements.txt (line 6)) (3.8.4)\n",
      "Requirement already satisfied: streamlit in /home/jai/anaconda3/lib/python3.11/site-packages (from -r requirements.txt (line 7)) (1.16.0)\n",
      "Collecting scikeras (from -r requirements.txt (line 8))\n",
      "  Using cached scikeras-0.13.0-py3-none-any.whl.metadata (3.1 kB)\n",
      "Collecting absl-py>=1.0.0 (from tensorflow==2.15.0->-r requirements.txt (line 1))\n",
      "  Using cached absl_py-2.1.0-py3-none-any.whl.metadata (2.3 kB)\n",
      "Collecting astunparse>=1.6.0 (from tensorflow==2.15.0->-r requirements.txt (line 1))\n",
      "  Using cached astunparse-1.6.3-py2.py3-none-any.whl.metadata (4.4 kB)\n",
      "Collecting flatbuffers>=23.5.26 (from tensorflow==2.15.0->-r requirements.txt (line 1))\n",
      "  Using cached flatbuffers-24.3.25-py2.py3-none-any.whl.metadata (850 bytes)\n",
      "Collecting gast!=0.5.0,!=0.5.1,!=0.5.2,>=0.2.1 (from tensorflow==2.15.0->-r requirements.txt (line 1))\n",
      "  Using cached gast-0.6.0-py3-none-any.whl.metadata (1.3 kB)\n",
      "Collecting google-pasta>=0.1.1 (from tensorflow==2.15.0->-r requirements.txt (line 1))\n",
      "  Using cached google_pasta-0.2.0-py3-none-any.whl.metadata (814 bytes)\n",
      "Requirement already satisfied: h5py>=2.9.0 in /home/jai/anaconda3/lib/python3.11/site-packages (from tensorflow==2.15.0->-r requirements.txt (line 1)) (3.11.0)\n",
      "Collecting libclang>=13.0.0 (from tensorflow==2.15.0->-r requirements.txt (line 1))\n",
      "  Using cached libclang-18.1.1-py2.py3-none-manylinux2010_x86_64.whl.metadata (5.2 kB)\n",
      "Collecting ml-dtypes~=0.2.0 (from tensorflow==2.15.0->-r requirements.txt (line 1))\n",
      "  Using cached ml_dtypes-0.2.0-cp311-cp311-manylinux_2_17_x86_64.manylinux2014_x86_64.whl.metadata (20 kB)\n",
      "Collecting opt-einsum>=2.3.2 (from tensorflow==2.15.0->-r requirements.txt (line 1))\n",
      "  Using cached opt_einsum-3.3.0-py3-none-any.whl.metadata (6.5 kB)\n",
      "Requirement already satisfied: packaging in /home/jai/anaconda3/lib/python3.11/site-packages (from tensorflow==2.15.0->-r requirements.txt (line 1)) (24.1)\n",
      "Requirement already satisfied: protobuf!=4.21.0,!=4.21.1,!=4.21.2,!=4.21.3,!=4.21.4,!=4.21.5,<5.0.0dev,>=3.20.3 in /home/jai/anaconda3/lib/python3.11/site-packages (from tensorflow==2.15.0->-r requirements.txt (line 1)) (3.20.3)\n",
      "Requirement already satisfied: setuptools in /home/jai/anaconda3/lib/python3.11/site-packages (from tensorflow==2.15.0->-r requirements.txt (line 1)) (72.1.0)\n",
      "Requirement already satisfied: six>=1.12.0 in /home/jai/anaconda3/lib/python3.11/site-packages (from tensorflow==2.15.0->-r requirements.txt (line 1)) (1.16.0)\n",
      "Collecting termcolor>=1.1.0 (from tensorflow==2.15.0->-r requirements.txt (line 1))\n",
      "  Using cached termcolor-2.4.0-py3-none-any.whl.metadata (6.1 kB)\n",
      "Requirement already satisfied: typing-extensions>=3.6.6 in /home/jai/anaconda3/lib/python3.11/site-packages (from tensorflow==2.15.0->-r requirements.txt (line 1)) (4.11.0)\n",
      "Requirement already satisfied: wrapt<1.15,>=1.11.0 in /home/jai/anaconda3/lib/python3.11/site-packages (from tensorflow==2.15.0->-r requirements.txt (line 1)) (1.14.1)\n",
      "Collecting tensorflow-io-gcs-filesystem>=0.23.1 (from tensorflow==2.15.0->-r requirements.txt (line 1))\n",
      "  Using cached tensorflow_io_gcs_filesystem-0.37.1-cp311-cp311-manylinux_2_17_x86_64.manylinux2014_x86_64.whl.metadata (14 kB)\n",
      "Collecting grpcio<2.0,>=1.24.3 (from tensorflow==2.15.0->-r requirements.txt (line 1))\n",
      "  Using cached grpcio-1.65.4-cp311-cp311-manylinux_2_17_x86_64.manylinux2014_x86_64.whl.metadata (3.3 kB)\n",
      "Collecting tensorboard (from -r requirements.txt (line 5))\n",
      "  Using cached tensorboard-2.15.2-py3-none-any.whl.metadata (1.7 kB)\n",
      "Collecting tensorflow-estimator<2.16,>=2.15.0 (from tensorflow==2.15.0->-r requirements.txt (line 1))\n",
      "  Using cached tensorflow_estimator-2.15.0-py2.py3-none-any.whl.metadata (1.3 kB)\n",
      "Collecting keras<2.16,>=2.15.0 (from tensorflow==2.15.0->-r requirements.txt (line 1))\n",
      "  Using cached keras-2.15.0-py3-none-any.whl.metadata (2.4 kB)\n",
      "Requirement already satisfied: python-dateutil>=2.8.2 in /home/jai/anaconda3/lib/python3.11/site-packages (from pandas->-r requirements.txt (line 2)) (2.9.0.post0)\n",
      "Requirement already satisfied: pytz>=2020.1 in /home/jai/anaconda3/lib/python3.11/site-packages (from pandas->-r requirements.txt (line 2)) (2024.1)\n",
      "Requirement already satisfied: tzdata>=2022.7 in /home/jai/anaconda3/lib/python3.11/site-packages (from pandas->-r requirements.txt (line 2)) (2023.3)\n",
      "Requirement already satisfied: scipy>=1.6.0 in /home/jai/anaconda3/lib/python3.11/site-packages (from scikit-learn->-r requirements.txt (line 4)) (1.13.1)\n",
      "Requirement already satisfied: joblib>=1.2.0 in /home/jai/anaconda3/lib/python3.11/site-packages (from scikit-learn->-r requirements.txt (line 4)) (1.4.2)\n",
      "Requirement already satisfied: threadpoolctl>=3.1.0 in /home/jai/anaconda3/lib/python3.11/site-packages (from scikit-learn->-r requirements.txt (line 4)) (3.5.0)\n",
      "Collecting google-auth<3,>=1.6.3 (from tensorboard->-r requirements.txt (line 5))\n",
      "  Using cached google_auth-2.33.0-py2.py3-none-any.whl.metadata (4.7 kB)\n",
      "Collecting google-auth-oauthlib<2,>=0.5 (from tensorboard->-r requirements.txt (line 5))\n",
      "  Using cached google_auth_oauthlib-1.2.1-py2.py3-none-any.whl.metadata (2.7 kB)\n",
      "Requirement already satisfied: markdown>=2.6.8 in /home/jai/anaconda3/lib/python3.11/site-packages (from tensorboard->-r requirements.txt (line 5)) (3.4.1)\n",
      "Requirement already satisfied: requests<3,>=2.21.0 in /home/jai/anaconda3/lib/python3.11/site-packages (from tensorboard->-r requirements.txt (line 5)) (2.32.3)\n",
      "Collecting tensorboard-data-server<0.8.0,>=0.7.0 (from tensorboard->-r requirements.txt (line 5))\n",
      "  Using cached tensorboard_data_server-0.7.2-py3-none-manylinux_2_31_x86_64.whl.metadata (1.1 kB)\n",
      "Requirement already satisfied: werkzeug>=1.0.1 in /home/jai/anaconda3/lib/python3.11/site-packages (from tensorboard->-r requirements.txt (line 5)) (3.0.3)\n",
      "Requirement already satisfied: contourpy>=1.0.1 in /home/jai/anaconda3/lib/python3.11/site-packages (from matplotlib->-r requirements.txt (line 6)) (1.2.0)\n",
      "Requirement already satisfied: cycler>=0.10 in /home/jai/anaconda3/lib/python3.11/site-packages (from matplotlib->-r requirements.txt (line 6)) (0.11.0)\n",
      "Requirement already satisfied: fonttools>=4.22.0 in /home/jai/anaconda3/lib/python3.11/site-packages (from matplotlib->-r requirements.txt (line 6)) (4.51.0)\n",
      "Requirement already satisfied: kiwisolver>=1.3.1 in /home/jai/anaconda3/lib/python3.11/site-packages (from matplotlib->-r requirements.txt (line 6)) (1.4.4)\n",
      "Requirement already satisfied: pillow>=8 in /home/jai/anaconda3/lib/python3.11/site-packages (from matplotlib->-r requirements.txt (line 6)) (10.4.0)\n",
      "Requirement already satisfied: pyparsing>=2.3.1 in /home/jai/anaconda3/lib/python3.11/site-packages (from matplotlib->-r requirements.txt (line 6)) (3.0.9)\n",
      "Requirement already satisfied: altair>=3.2.0 in /home/jai/anaconda3/lib/python3.11/site-packages (from streamlit->-r requirements.txt (line 7)) (5.0.1)\n",
      "Requirement already satisfied: blinker>=1.0.0 in /home/jai/anaconda3/lib/python3.11/site-packages (from streamlit->-r requirements.txt (line 7)) (1.6.2)\n",
      "Requirement already satisfied: cachetools>=4.0 in /home/jai/anaconda3/lib/python3.11/site-packages (from streamlit->-r requirements.txt (line 7)) (5.3.3)\n",
      "Requirement already satisfied: click>=7.0 in /home/jai/anaconda3/lib/python3.11/site-packages (from streamlit->-r requirements.txt (line 7)) (8.1.7)\n",
      "Requirement already satisfied: importlib-metadata>=1.4 in /home/jai/anaconda3/lib/python3.11/site-packages (from streamlit->-r requirements.txt (line 7)) (7.0.1)\n",
      "Requirement already satisfied: pyarrow>=4.0 in /home/jai/anaconda3/lib/python3.11/site-packages (from streamlit->-r requirements.txt (line 7)) (11.0.0)\n",
      "Requirement already satisfied: pympler>=0.9 in /home/jai/anaconda3/lib/python3.11/site-packages (from streamlit->-r requirements.txt (line 7)) (0.9)\n",
      "Requirement already satisfied: rich>=10.11.0 in /home/jai/anaconda3/lib/python3.11/site-packages (from streamlit->-r requirements.txt (line 7)) (13.7.1)\n",
      "Requirement already satisfied: semver in /home/jai/anaconda3/lib/python3.11/site-packages (from streamlit->-r requirements.txt (line 7)) (3.0.2)\n",
      "Requirement already satisfied: toml in /home/jai/anaconda3/lib/python3.11/site-packages (from streamlit->-r requirements.txt (line 7)) (0.10.2)\n",
      "Requirement already satisfied: tzlocal>=1.1 in /home/jai/anaconda3/lib/python3.11/site-packages (from streamlit->-r requirements.txt (line 7)) (5.2)\n",
      "Requirement already satisfied: validators>=0.2 in /home/jai/anaconda3/lib/python3.11/site-packages (from streamlit->-r requirements.txt (line 7)) (0.18.2)\n",
      "Requirement already satisfied: gitpython!=3.1.19 in /home/jai/anaconda3/lib/python3.11/site-packages (from streamlit->-r requirements.txt (line 7)) (3.1.43)\n",
      "Requirement already satisfied: pydeck>=0.1.dev5 in /home/jai/anaconda3/lib/python3.11/site-packages (from streamlit->-r requirements.txt (line 7)) (0.7.1)\n",
      "Requirement already satisfied: tornado>=5.0 in /home/jai/anaconda3/lib/python3.11/site-packages (from streamlit->-r requirements.txt (line 7)) (6.4.1)\n",
      "Requirement already satisfied: watchdog in /home/jai/anaconda3/lib/python3.11/site-packages (from streamlit->-r requirements.txt (line 7)) (4.0.1)\n",
      "INFO: pip is looking at multiple versions of scikeras to determine which version is compatible with other requirements. This could take a while.\n",
      "Collecting scikeras (from -r requirements.txt (line 8))\n",
      "  Using cached scikeras-0.12.0-py3-none-any.whl.metadata (4.0 kB)\n",
      "Requirement already satisfied: jinja2 in /home/jai/anaconda3/lib/python3.11/site-packages (from altair>=3.2.0->streamlit->-r requirements.txt (line 7)) (3.1.4)\n",
      "Requirement already satisfied: jsonschema>=3.0 in /home/jai/anaconda3/lib/python3.11/site-packages (from altair>=3.2.0->streamlit->-r requirements.txt (line 7)) (4.19.2)\n",
      "Requirement already satisfied: toolz in /home/jai/anaconda3/lib/python3.11/site-packages (from altair>=3.2.0->streamlit->-r requirements.txt (line 7)) (0.12.0)\n",
      "Requirement already satisfied: wheel<1.0,>=0.23.0 in /home/jai/anaconda3/lib/python3.11/site-packages (from astunparse>=1.6.0->tensorflow==2.15.0->-r requirements.txt (line 1)) (0.43.0)\n",
      "Requirement already satisfied: gitdb<5,>=4.0.1 in /home/jai/anaconda3/lib/python3.11/site-packages (from gitpython!=3.1.19->streamlit->-r requirements.txt (line 7)) (4.0.7)\n",
      "Requirement already satisfied: pyasn1-modules>=0.2.1 in /home/jai/anaconda3/lib/python3.11/site-packages (from google-auth<3,>=1.6.3->tensorboard->-r requirements.txt (line 5)) (0.2.8)\n",
      "Collecting rsa<5,>=3.1.4 (from google-auth<3,>=1.6.3->tensorboard->-r requirements.txt (line 5))\n",
      "  Using cached rsa-4.9-py3-none-any.whl.metadata (4.2 kB)\n",
      "Collecting requests-oauthlib>=0.7.0 (from google-auth-oauthlib<2,>=0.5->tensorboard->-r requirements.txt (line 5))\n",
      "  Using cached requests_oauthlib-2.0.0-py2.py3-none-any.whl.metadata (11 kB)\n",
      "Requirement already satisfied: zipp>=0.5 in /home/jai/anaconda3/lib/python3.11/site-packages (from importlib-metadata>=1.4->streamlit->-r requirements.txt (line 7)) (3.17.0)\n",
      "Requirement already satisfied: ipywidgets>=7.0.0 in /home/jai/anaconda3/lib/python3.11/site-packages (from pydeck>=0.1.dev5->streamlit->-r requirements.txt (line 7)) (8.1.2)\n",
      "Requirement already satisfied: traitlets>=4.3.2 in /home/jai/anaconda3/lib/python3.11/site-packages (from pydeck>=0.1.dev5->streamlit->-r requirements.txt (line 7)) (5.14.3)\n",
      "Requirement already satisfied: ipykernel>=5.1.2 in /home/jai/anaconda3/lib/python3.11/site-packages (from pydeck>=0.1.dev5->streamlit->-r requirements.txt (line 7)) (6.28.0)\n",
      "Requirement already satisfied: charset-normalizer<4,>=2 in /home/jai/anaconda3/lib/python3.11/site-packages (from requests<3,>=2.21.0->tensorboard->-r requirements.txt (line 5)) (2.0.4)\n",
      "Requirement already satisfied: idna<4,>=2.5 in /home/jai/anaconda3/lib/python3.11/site-packages (from requests<3,>=2.21.0->tensorboard->-r requirements.txt (line 5)) (3.7)\n",
      "Requirement already satisfied: urllib3<3,>=1.21.1 in /home/jai/anaconda3/lib/python3.11/site-packages (from requests<3,>=2.21.0->tensorboard->-r requirements.txt (line 5)) (2.2.2)\n",
      "Requirement already satisfied: certifi>=2017.4.17 in /home/jai/anaconda3/lib/python3.11/site-packages (from requests<3,>=2.21.0->tensorboard->-r requirements.txt (line 5)) (2024.7.4)\n",
      "Requirement already satisfied: markdown-it-py>=2.2.0 in /home/jai/anaconda3/lib/python3.11/site-packages (from rich>=10.11.0->streamlit->-r requirements.txt (line 7)) (2.2.0)\n",
      "Requirement already satisfied: pygments<3.0.0,>=2.13.0 in /home/jai/anaconda3/lib/python3.11/site-packages (from rich>=10.11.0->streamlit->-r requirements.txt (line 7)) (2.15.1)\n",
      "Requirement already satisfied: decorator>=3.4.0 in /home/jai/anaconda3/lib/python3.11/site-packages (from validators>=0.2->streamlit->-r requirements.txt (line 7)) (5.1.1)\n",
      "Requirement already satisfied: MarkupSafe>=2.1.1 in /home/jai/anaconda3/lib/python3.11/site-packages (from werkzeug>=1.0.1->tensorboard->-r requirements.txt (line 5)) (2.1.3)\n",
      "Requirement already satisfied: smmap<5,>=3.0.1 in /home/jai/anaconda3/lib/python3.11/site-packages (from gitdb<5,>=4.0.1->gitpython!=3.1.19->streamlit->-r requirements.txt (line 7)) (4.0.0)\n",
      "Requirement already satisfied: comm>=0.1.1 in /home/jai/anaconda3/lib/python3.11/site-packages (from ipykernel>=5.1.2->pydeck>=0.1.dev5->streamlit->-r requirements.txt (line 7)) (0.2.1)\n",
      "Requirement already satisfied: debugpy>=1.6.5 in /home/jai/anaconda3/lib/python3.11/site-packages (from ipykernel>=5.1.2->pydeck>=0.1.dev5->streamlit->-r requirements.txt (line 7)) (1.6.7)\n",
      "Requirement already satisfied: ipython>=7.23.1 in /home/jai/anaconda3/lib/python3.11/site-packages (from ipykernel>=5.1.2->pydeck>=0.1.dev5->streamlit->-r requirements.txt (line 7)) (8.25.0)\n",
      "Requirement already satisfied: jupyter-client>=6.1.12 in /home/jai/anaconda3/lib/python3.11/site-packages (from ipykernel>=5.1.2->pydeck>=0.1.dev5->streamlit->-r requirements.txt (line 7)) (8.6.0)\n",
      "Requirement already satisfied: jupyter-core!=5.0.*,>=4.12 in /home/jai/anaconda3/lib/python3.11/site-packages (from ipykernel>=5.1.2->pydeck>=0.1.dev5->streamlit->-r requirements.txt (line 7)) (5.7.2)\n",
      "Requirement already satisfied: matplotlib-inline>=0.1 in /home/jai/anaconda3/lib/python3.11/site-packages (from ipykernel>=5.1.2->pydeck>=0.1.dev5->streamlit->-r requirements.txt (line 7)) (0.1.6)\n",
      "Requirement already satisfied: nest-asyncio in /home/jai/anaconda3/lib/python3.11/site-packages (from ipykernel>=5.1.2->pydeck>=0.1.dev5->streamlit->-r requirements.txt (line 7)) (1.6.0)\n",
      "Requirement already satisfied: psutil in /home/jai/anaconda3/lib/python3.11/site-packages (from ipykernel>=5.1.2->pydeck>=0.1.dev5->streamlit->-r requirements.txt (line 7)) (5.9.0)\n",
      "Requirement already satisfied: pyzmq>=24 in /home/jai/anaconda3/lib/python3.11/site-packages (from ipykernel>=5.1.2->pydeck>=0.1.dev5->streamlit->-r requirements.txt (line 7)) (25.1.2)\n",
      "Requirement already satisfied: widgetsnbextension~=4.0.10 in /home/jai/anaconda3/lib/python3.11/site-packages (from ipywidgets>=7.0.0->pydeck>=0.1.dev5->streamlit->-r requirements.txt (line 7)) (4.0.10)\n",
      "Requirement already satisfied: jupyterlab-widgets~=3.0.10 in /home/jai/anaconda3/lib/python3.11/site-packages (from ipywidgets>=7.0.0->pydeck>=0.1.dev5->streamlit->-r requirements.txt (line 7)) (3.0.10)\n",
      "Requirement already satisfied: attrs>=22.2.0 in /home/jai/anaconda3/lib/python3.11/site-packages (from jsonschema>=3.0->altair>=3.2.0->streamlit->-r requirements.txt (line 7)) (23.1.0)\n",
      "Requirement already satisfied: jsonschema-specifications>=2023.03.6 in /home/jai/anaconda3/lib/python3.11/site-packages (from jsonschema>=3.0->altair>=3.2.0->streamlit->-r requirements.txt (line 7)) (2023.7.1)\n",
      "Requirement already satisfied: referencing>=0.28.4 in /home/jai/anaconda3/lib/python3.11/site-packages (from jsonschema>=3.0->altair>=3.2.0->streamlit->-r requirements.txt (line 7)) (0.30.2)\n",
      "Requirement already satisfied: rpds-py>=0.7.1 in /home/jai/anaconda3/lib/python3.11/site-packages (from jsonschema>=3.0->altair>=3.2.0->streamlit->-r requirements.txt (line 7)) (0.10.6)\n",
      "Requirement already satisfied: mdurl~=0.1 in /home/jai/anaconda3/lib/python3.11/site-packages (from markdown-it-py>=2.2.0->rich>=10.11.0->streamlit->-r requirements.txt (line 7)) (0.1.0)\n",
      "Requirement already satisfied: pyasn1<0.5.0,>=0.4.6 in /home/jai/anaconda3/lib/python3.11/site-packages (from pyasn1-modules>=0.2.1->google-auth<3,>=1.6.3->tensorboard->-r requirements.txt (line 5)) (0.4.8)\n",
      "Collecting oauthlib>=3.0.0 (from requests-oauthlib>=0.7.0->google-auth-oauthlib<2,>=0.5->tensorboard->-r requirements.txt (line 5))\n",
      "  Using cached oauthlib-3.2.2-py3-none-any.whl.metadata (7.5 kB)\n",
      "Requirement already satisfied: jedi>=0.16 in /home/jai/anaconda3/lib/python3.11/site-packages (from ipython>=7.23.1->ipykernel>=5.1.2->pydeck>=0.1.dev5->streamlit->-r requirements.txt (line 7)) (0.19.1)\n",
      "Requirement already satisfied: prompt-toolkit<3.1.0,>=3.0.41 in /home/jai/anaconda3/lib/python3.11/site-packages (from ipython>=7.23.1->ipykernel>=5.1.2->pydeck>=0.1.dev5->streamlit->-r requirements.txt (line 7)) (3.0.43)\n",
      "Requirement already satisfied: stack-data in /home/jai/anaconda3/lib/python3.11/site-packages (from ipython>=7.23.1->ipykernel>=5.1.2->pydeck>=0.1.dev5->streamlit->-r requirements.txt (line 7)) (0.2.0)\n",
      "Requirement already satisfied: pexpect>4.3 in /home/jai/anaconda3/lib/python3.11/site-packages (from ipython>=7.23.1->ipykernel>=5.1.2->pydeck>=0.1.dev5->streamlit->-r requirements.txt (line 7)) (4.8.0)\n",
      "Requirement already satisfied: platformdirs>=2.5 in /home/jai/anaconda3/lib/python3.11/site-packages (from jupyter-core!=5.0.*,>=4.12->ipykernel>=5.1.2->pydeck>=0.1.dev5->streamlit->-r requirements.txt (line 7)) (3.10.0)\n",
      "Requirement already satisfied: parso<0.9.0,>=0.8.3 in /home/jai/anaconda3/lib/python3.11/site-packages (from jedi>=0.16->ipython>=7.23.1->ipykernel>=5.1.2->pydeck>=0.1.dev5->streamlit->-r requirements.txt (line 7)) (0.8.3)\n",
      "Requirement already satisfied: ptyprocess>=0.5 in /home/jai/anaconda3/lib/python3.11/site-packages (from pexpect>4.3->ipython>=7.23.1->ipykernel>=5.1.2->pydeck>=0.1.dev5->streamlit->-r requirements.txt (line 7)) (0.7.0)\n",
      "Requirement already satisfied: wcwidth in /home/jai/anaconda3/lib/python3.11/site-packages (from prompt-toolkit<3.1.0,>=3.0.41->ipython>=7.23.1->ipykernel>=5.1.2->pydeck>=0.1.dev5->streamlit->-r requirements.txt (line 7)) (0.2.5)\n",
      "Requirement already satisfied: executing in /home/jai/anaconda3/lib/python3.11/site-packages (from stack-data->ipython>=7.23.1->ipykernel>=5.1.2->pydeck>=0.1.dev5->streamlit->-r requirements.txt (line 7)) (0.8.3)\n",
      "Requirement already satisfied: asttokens in /home/jai/anaconda3/lib/python3.11/site-packages (from stack-data->ipython>=7.23.1->ipykernel>=5.1.2->pydeck>=0.1.dev5->streamlit->-r requirements.txt (line 7)) (2.0.5)\n",
      "Requirement already satisfied: pure-eval in /home/jai/anaconda3/lib/python3.11/site-packages (from stack-data->ipython>=7.23.1->ipykernel>=5.1.2->pydeck>=0.1.dev5->streamlit->-r requirements.txt (line 7)) (0.2.2)\n",
      "Using cached tensorflow-2.15.0-cp311-cp311-manylinux_2_17_x86_64.manylinux2014_x86_64.whl (475.3 MB)\n",
      "Using cached tensorboard-2.15.2-py3-none-any.whl (5.5 MB)\n",
      "Using cached scikeras-0.12.0-py3-none-any.whl (27 kB)\n",
      "Using cached absl_py-2.1.0-py3-none-any.whl (133 kB)\n",
      "Using cached astunparse-1.6.3-py2.py3-none-any.whl (12 kB)\n",
      "Using cached flatbuffers-24.3.25-py2.py3-none-any.whl (26 kB)\n",
      "Using cached gast-0.6.0-py3-none-any.whl (21 kB)\n",
      "Using cached google_auth-2.33.0-py2.py3-none-any.whl (200 kB)\n",
      "Using cached google_auth_oauthlib-1.2.1-py2.py3-none-any.whl (24 kB)\n",
      "Using cached google_pasta-0.2.0-py3-none-any.whl (57 kB)\n",
      "Using cached grpcio-1.65.4-cp311-cp311-manylinux_2_17_x86_64.manylinux2014_x86_64.whl (5.7 MB)\n",
      "Using cached keras-2.15.0-py3-none-any.whl (1.7 MB)\n",
      "Using cached libclang-18.1.1-py2.py3-none-manylinux2010_x86_64.whl (24.5 MB)\n",
      "Using cached ml_dtypes-0.2.0-cp311-cp311-manylinux_2_17_x86_64.manylinux2014_x86_64.whl (1.0 MB)\n",
      "Using cached opt_einsum-3.3.0-py3-none-any.whl (65 kB)\n",
      "Using cached tensorboard_data_server-0.7.2-py3-none-manylinux_2_31_x86_64.whl (6.6 MB)\n",
      "Using cached tensorflow_estimator-2.15.0-py2.py3-none-any.whl (441 kB)\n",
      "Using cached tensorflow_io_gcs_filesystem-0.37.1-cp311-cp311-manylinux_2_17_x86_64.manylinux2014_x86_64.whl (5.1 MB)\n",
      "Using cached termcolor-2.4.0-py3-none-any.whl (7.7 kB)\n",
      "Using cached requests_oauthlib-2.0.0-py2.py3-none-any.whl (24 kB)\n",
      "Using cached rsa-4.9-py3-none-any.whl (34 kB)\n",
      "Using cached oauthlib-3.2.2-py3-none-any.whl (151 kB)\n",
      "Installing collected packages: libclang, flatbuffers, termcolor, tensorflow-io-gcs-filesystem, tensorflow-estimator, tensorboard-data-server, rsa, opt-einsum, oauthlib, ml-dtypes, keras, grpcio, google-pasta, gast, astunparse, absl-py, requests-oauthlib, google-auth, scikeras, google-auth-oauthlib, tensorboard, tensorflow\n",
      "Successfully installed absl-py-2.1.0 astunparse-1.6.3 flatbuffers-24.3.25 gast-0.6.0 google-auth-2.33.0 google-auth-oauthlib-1.2.1 google-pasta-0.2.0 grpcio-1.65.4 keras-2.15.0 libclang-18.1.1 ml-dtypes-0.2.0 oauthlib-3.2.2 opt-einsum-3.3.0 requests-oauthlib-2.0.0 rsa-4.9 scikeras-0.12.0 tensorboard-2.15.2 tensorboard-data-server-0.7.2 tensorflow-2.15.0 tensorflow-estimator-2.15.0 tensorflow-io-gcs-filesystem-0.37.1 termcolor-2.4.0\n",
      "Note: you may need to restart the kernel to use updated packages.\n"
     ]
    }
   ],
   "source": [
    "#pip install -r requirements.txt\n"
   ]
  },
  {
   "cell_type": "code",
   "execution_count": 12,
   "metadata": {
    "id": "sPiEJPrQoUIC"
   },
   "outputs": [],
   "source": [
    "import numpy as np\n",
    "import tensorflow as tf\n",
    "from tensorflow import keras\n",
    "from keras.datasets import imdb\n",
    "from keras.preprocessing import sequence\n",
    "from keras.models import Sequential\n",
    "from keras.layers import Dense, SimpleRNN, Embedding,Input,Bidirectional,LSTM"
   ]
  },
  {
   "cell_type": "code",
   "execution_count": 7,
   "metadata": {
    "colab": {
     "base_uri": "https://localhost:8080/"
    },
    "id": "UDZlXWaBgjST",
    "outputId": "8cdcf796-ef4c-477b-f198-eccb3f116cf1"
   },
   "outputs": [
    {
     "name": "stdout",
     "output_type": "stream",
     "text": [
      "(25000,) (25000,)\n"
     ]
    }
   ],
   "source": [
    "max_features = 10000\n",
    "input_shape = (500,)\n",
    "(X_train, y_train), (X_test, y_test) = imdb.load_data(num_words=max_features)\n",
    "print(X_train.shape, y_train.shape)"
   ]
  },
  {
   "cell_type": "code",
   "execution_count": 8,
   "metadata": {
    "colab": {
     "base_uri": "https://localhost:8080/"
    },
    "id": "ZOL1iiUDgoVt",
    "outputId": "b78cd7ed-3b21-4919-941f-f6269aaa5bf9"
   },
   "outputs": [
    {
     "name": "stdout",
     "output_type": "stream",
     "text": [
      "(25000, 1000) (25000, 1000)\n"
     ]
    }
   ],
   "source": [
    "max_len=1000\n",
    "X_train = sequence.pad_sequences(X_train, maxlen=max_len)\n",
    "X_test = sequence.pad_sequences(X_test, maxlen=max_len)\n",
    "print(X_train.shape, X_test.shape)"
   ]
  },
  {
   "cell_type": "code",
   "execution_count": 13,
   "metadata": {
    "id": "y0hFiZ46gqJ5"
   },
   "outputs": [],
   "source": [
    "model=Sequential()\n",
    "model.add(Input(shape=(max_len,)))\n",
    "model.add(Embedding(max_features,128))\n",
    "model.add(Bidirectional(LSTM(128,activation='relu')))\n",
    "model.add(Dense(1,activation='sigmoid'))"
   ]
  },
  {
   "cell_type": "code",
   "execution_count": 14,
   "metadata": {
    "colab": {
     "base_uri": "https://localhost:8080/",
     "height": 225
    },
    "id": "LzPZmoiXgsV1",
    "outputId": "d364a358-fc70-41df-a162-741883946a5b"
   },
   "outputs": [
    {
     "name": "stdout",
     "output_type": "stream",
     "text": [
      "Model: \"sequential_3\"\n",
      "_________________________________________________________________\n",
      " Layer (type)                Output Shape              Param #   \n",
      "=================================================================\n",
      " embedding_3 (Embedding)     (None, 1000, 128)         1280000   \n",
      "                                                                 \n",
      " bidirectional (Bidirection  (None, 256)               263168    \n",
      " al)                                                             \n",
      "                                                                 \n",
      " dense (Dense)               (None, 1)                 257       \n",
      "                                                                 \n",
      "=================================================================\n",
      "Total params: 1543425 (5.89 MB)\n",
      "Trainable params: 1543425 (5.89 MB)\n",
      "Non-trainable params: 0 (0.00 Byte)\n",
      "_________________________________________________________________\n"
     ]
    }
   ],
   "source": [
    "model.summary()"
   ]
  },
  {
   "cell_type": "code",
   "execution_count": 15,
   "metadata": {
    "id": "y_H9jZf8gvFf"
   },
   "outputs": [],
   "source": [
    "model.compile(loss='binary_crossentropy',optimizer='adam',metrics=['accuracy'])"
   ]
  },
  {
   "cell_type": "code",
   "execution_count": 16,
   "metadata": {
    "colab": {
     "base_uri": "https://localhost:8080/"
    },
    "id": "TEI6qgMYjfyJ",
    "outputId": "79bf23a3-735b-49fc-ea52-e2d857d7978d"
   },
   "outputs": [
    {
     "data": {
      "text/plain": [
       "<keras.src.callbacks.EarlyStopping at 0x7fa16ae30810>"
      ]
     },
     "execution_count": 16,
     "metadata": {},
     "output_type": "execute_result"
    }
   ],
   "source": [
    "from tensorflow.keras.callbacks import EarlyStopping\n",
    "earlystopping=EarlyStopping(monitor='val_loss',patience=5,restore_best_weights=True)\n",
    "earlystopping"
   ]
  },
  {
   "cell_type": "markdown",
   "metadata": {
    "id": "bYv4lziGiUfG"
   },
   "source": []
  },
  {
   "cell_type": "code",
   "execution_count": null,
   "metadata": {
    "colab": {
     "base_uri": "https://localhost:8080/"
    },
    "id": "lH2MicD-jmnO",
    "outputId": "88907207-8659-4a22-df3c-ff799fdec0c6"
   },
   "outputs": [
    {
     "name": "stdout",
     "output_type": "stream",
     "text": [
      "Epoch 1/10\n"
     ]
    },
    {
     "name": "stderr",
     "output_type": "stream",
     "text": [
      "2024-08-12 18:51:40.390688: W external/local_tsl/tsl/framework/cpu_allocator_impl.cc:83] Allocation of 80000000 exceeds 10% of free system memory.\n"
     ]
    },
    {
     "name": "stdout",
     "output_type": "stream",
     "text": [
      "320/625 [==============>...............] - ETA: 4:40 - loss: nan - accuracy: 0.5039"
     ]
    }
   ],
   "source": [
    "history=model.fit(\n",
    "    X_train,y_train,epochs=10,batch_size=32,\n",
    "    validation_split=0.2,\n",
    "    callbacks=[earlystopping]\n",
    ")"
   ]
  },
  {
   "cell_type": "code",
   "execution_count": null,
   "metadata": {
    "colab": {
     "base_uri": "https://localhost:8080/"
    },
    "id": "GPZkoy8vn2Af",
    "outputId": "ff03b377-417e-4b3c-eb14-4985064a5571"
   },
   "outputs": [
    {
     "name": "stderr",
     "output_type": "stream",
     "text": [
      "WARNING:absl:You are saving your model as an HDF5 file via `model.save()` or `keras.saving.save_model(model)`. This file format is considered legacy. We recommend using instead the native Keras format, e.g. `model.save('my_model.keras')` or `keras.saving.save_model(model, 'my_model.keras')`. \n"
     ]
    }
   ],
   "source": [
    "model.save('bidirectional_imdb.keras')\n",
    "model.save('bidirectional_imdb.h5')"
   ]
  },
  {
   "cell_type": "code",
   "execution_count": null,
   "metadata": {
    "colab": {
     "base_uri": "https://localhost:8080/"
    },
    "id": "hd5EGI0unIOe",
    "outputId": "d726b4f9-921f-4d4c-ddd0-30febfe1d9f6"
   },
   "outputs": [
    {
     "name": "stdout",
     "output_type": "stream",
     "text": [
      "Downloading data from https://storage.googleapis.com/tensorflow/tf-keras-datasets/imdb_word_index.json\n",
      "\u001b[1m1641221/1641221\u001b[0m \u001b[32m━━━━━━━━━━━━━━━━━━━━\u001b[0m\u001b[37m\u001b[0m \u001b[1m0s\u001b[0m 0us/step\n"
     ]
    }
   ],
   "source": [
    "word_index = imdb.get_word_index()\n",
    "reverse_word_index = {value: key for key, value in word_index.items()}"
   ]
  },
  {
   "cell_type": "code",
   "execution_count": null,
   "metadata": {
    "id": "394bk-iTmnqc"
   },
   "outputs": [],
   "source": [
    "def decode_review(encoded_review):\n",
    "    return ' '.join([reverse_word_index.get(i - 3, '?') for i in encoded_review])\n",
    "\n",
    "# Function to preprocess user input\n",
    "def preprocess_text(text):\n",
    "    words = text.lower().split()\n",
    "    encoded_review = [word_index.get(word, 2) + 3 for word in words]\n",
    "    padded_review = sequence.pad_sequences([encoded_review], maxlen=500)\n",
    "    return padded_review"
   ]
  },
  {
   "cell_type": "code",
   "execution_count": null,
   "metadata": {
    "id": "3JkLrKUknT2j"
   },
   "outputs": [],
   "source": [
    "def predict_sentiment(review):\n",
    "    preprocessed_input=preprocess_text(review)\n",
    "\n",
    "    prediction=model.predict(preprocessed_input)\n",
    "\n",
    "    sentiment = 'Positive' if prediction[0][0] > 0.5 else 'Negative'\n",
    "\n",
    "    return sentiment, prediction[0][0]"
   ]
  },
  {
   "cell_type": "code",
   "execution_count": null,
   "metadata": {
    "colab": {
     "base_uri": "https://localhost:8080/"
    },
    "id": "mowGrTw5myo0",
    "outputId": "27fbcf07-25a4-4d07-9aba-9128c67d448a"
   },
   "outputs": [
    {
     "name": "stdout",
     "output_type": "stream",
     "text": [
      "\u001b[1m1/1\u001b[0m \u001b[32m━━━━━━━━━━━━━━━━━━━━\u001b[0m\u001b[37m\u001b[0m \u001b[1m0s\u001b[0m 22ms/step\n",
      "Review: This movie was worst\n",
      "Sentiment: Positive\n",
      "Prediction Score: 0.9835739135742188\n"
     ]
    }
   ],
   "source": [
    "review=\"This movie was worst\"\n",
    "sentiment,score=predict_sentiment(review)\n",
    "print(f'Review: {review}')\n",
    "print(f'Sentiment: {sentiment}')\n",
    "print(f'Prediction Score: {score}')"
   ]
  },
  {
   "cell_type": "code",
   "execution_count": null,
   "metadata": {
    "id": "5cdsPnMSm__H"
   },
   "outputs": [],
   "source": []
  },
  {
   "cell_type": "code",
   "execution_count": null,
   "metadata": {},
   "outputs": [],
   "source": []
  }
 ],
 "metadata": {
  "accelerator": "GPU",
  "colab": {
   "gpuType": "T4",
   "provenance": []
  },
  "kernelspec": {
   "display_name": "Python 3 (ipykernel)",
   "language": "python",
   "name": "python3"
  },
  "language_info": {
   "codemirror_mode": {
    "name": "ipython",
    "version": 3
   },
   "file_extension": ".py",
   "mimetype": "text/x-python",
   "name": "python",
   "nbconvert_exporter": "python",
   "pygments_lexer": "ipython3",
   "version": "3.12.4"
  }
 },
 "nbformat": 4,
 "nbformat_minor": 4
}
